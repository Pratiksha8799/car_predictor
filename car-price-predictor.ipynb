{
 "cells": [
  {
   "cell_type": "code",
   "execution_count": 1,
   "id": "75ce73db",
   "metadata": {
    "_cell_guid": "b1076dfc-b9ad-4769-8c92-a6c4dae69d19",
    "_uuid": "8f2839f25d086af736a60e9eeb907d3b93b6e0e5",
    "execution": {
     "iopub.execute_input": "2024-06-04T09:49:16.539663Z",
     "iopub.status.busy": "2024-06-04T09:49:16.539292Z",
     "iopub.status.idle": "2024-06-04T09:49:17.378332Z",
     "shell.execute_reply": "2024-06-04T09:49:17.377164Z"
    },
    "papermill": {
     "duration": 0.849796,
     "end_time": "2024-06-04T09:49:17.381256",
     "exception": false,
     "start_time": "2024-06-04T09:49:16.531460",
     "status": "completed"
    },
    "tags": []
   },
   "outputs": [
    {
     "name": "stdout",
     "output_type": "stream",
     "text": [
      "/kaggle/input/vehicle-sales-data/car_prices.csv\n"
     ]
    }
   ],
   "source": [
    "# This Python 3 environment comes with many helpful analytics libraries installed\n",
    "# It is defined by the kaggle/python Docker image: https://github.com/kaggle/docker-python\n",
    "# For example, here's several helpful packages to load\n",
    "\n",
    "import numpy as np # linear algebra\n",
    "import pandas as pd # data processing, CSV file I/O (e.g. pd.read_csv)\n",
    "\n",
    "# Input data files are available in the read-only \"../input/\" directory\n",
    "# For example, running this (by clicking run or pressing Shift+Enter) will list all files under the input directory\n",
    "\n",
    "import os\n",
    "for dirname, _, filenames in os.walk('/kaggle/input'):\n",
    "    for filename in filenames:\n",
    "        print(os.path.join(dirname, filename))\n",
    "\n",
    "# You can write up to 20GB to the current directory (/kaggle/working/) that gets preserved as output when you create a version using \"Save & Run All\" \n",
    "# You can also write temporary files to /kaggle/temp/, but they won't be saved outside of the current session"
   ]
  },
  {
   "cell_type": "markdown",
   "id": "14ced124",
   "metadata": {
    "papermill": {
     "duration": 0.005514,
     "end_time": "2024-06-04T09:49:17.393102",
     "exception": false,
     "start_time": "2024-06-04T09:49:17.387588",
     "status": "completed"
    },
    "tags": []
   },
   "source": [
    "Here's a step-by-step approach: \n",
    "1. Data Preprocessing:\n",
    "\n",
    "Load the dataset into a DataFrame.Handle missing values by imputation or removal. Convert categorical variables into numerical representations using techniques like one-hot encoding or label encoding.Normalize or scale numerical features to ensure that they have similar scales.\n",
    "\n",
    "2. Feature Selection and Engineering:\n",
    "\n",
    "Explore the dataset to understand the relationships between features and the target variable (sale price).\n",
    "Select relevant features that are likely to have an impact on the sale price.\n",
    "Engineer new features if necessary, such as calculating the age of the vehicle based on the year.\n",
    "\n",
    "3. Splitting the Dataset:\n",
    "\n",
    "Split the dataset into training and testing sets. Typically, you would use a larger portion for training (e.g., 70-80%) and a smaller portion for testing (e.g., 20-30%).\n",
    "\n",
    "4. Model Selection:\n",
    "\n",
    "Choose a regression model suitable for predicting continuous target variables like sale prices. Common choices include:\n",
    "Linear Regression\n",
    "Random Forest Regression\n",
    "Gradient Boosting Regression (e.g., XGBoost, LightGBM)\n",
    "Neural Network Regression\n",
    "\n",
    "5. Model Training:\n",
    "\n",
    "Train the selected regression model on the training dataset. Use techniques like cross-validation to tune hyperparameters and avoid overfitting.\n",
    "Model Evaluation:\n",
    "\n",
    "Evaluate the trained model's performance on the testing dataset using appropriate evaluation metrics such as mean absolute error (MAE), mean squared error (MSE), or R-squared (R^2) score.\n",
    "Compare the performance of different models if you tried multiple algorithms.\n",
    "\n",
    "6. Model Deployment (Optional):\n",
    "\n",
    "Deploy the trained model in a production environment if needed, such as an application or web service, to make predictions on new data."
   ]
  },
  {
   "cell_type": "code",
   "execution_count": 2,
   "id": "96d94bd4",
   "metadata": {
    "execution": {
     "iopub.execute_input": "2024-06-04T09:49:17.406168Z",
     "iopub.status.busy": "2024-06-04T09:49:17.405658Z",
     "iopub.status.idle": "2024-06-04T09:49:19.118912Z",
     "shell.execute_reply": "2024-06-04T09:49:19.117847Z"
    },
    "papermill": {
     "duration": 1.722876,
     "end_time": "2024-06-04T09:49:19.121432",
     "exception": false,
     "start_time": "2024-06-04T09:49:17.398556",
     "status": "completed"
    },
    "tags": []
   },
   "outputs": [],
   "source": [
    "import pandas as pd  # Importing pandas library for data manipulation and analysis\n",
    "# Alternatively, you can use label encoding for ordinal categorical variables\n",
    "from sklearn.preprocessing import LabelEncoder  # Importing LabelEncoder for converting categorical variables into numerical representations\n",
    "from sklearn.preprocessing import MinMaxScaler, StandardScaler  # Importing MinMaxScaler and StandardScaler for feature scaling\n",
    "# import plotly.express as px  # Importing Plotly Express for interactive data visualization\n",
    "import matplotlib.pyplot as plt\n",
    "import seaborn as sns  # Import seaborn for kdeplot\n",
    "import datetime  # Importing datetime module for working with dates and times\n",
    "from sklearn.model_selection import train_test_split  # Importing train_test_split for splitting dataset into train and test sets\n",
    "from sklearn.metrics import mean_absolute_error, mean_squared_error, r2_score  # Importing evaluation metrics for regression models\n",
    "from sklearn.preprocessing import OneHotEncoder  # Importing OneHotEncoder for one-hot encoding categorical variables\n",
    "from sklearn.linear_model import LinearRegression  # Importing LinearRegression model for regression analysis\n"
   ]
  },
  {
   "cell_type": "code",
   "execution_count": 3,
   "id": "effd7a08",
   "metadata": {
    "execution": {
     "iopub.execute_input": "2024-06-04T09:49:19.134329Z",
     "iopub.status.busy": "2024-06-04T09:49:19.133963Z",
     "iopub.status.idle": "2024-06-04T09:49:22.578598Z",
     "shell.execute_reply": "2024-06-04T09:49:22.577399Z"
    },
    "papermill": {
     "duration": 3.453885,
     "end_time": "2024-06-04T09:49:22.581129",
     "exception": false,
     "start_time": "2024-06-04T09:49:19.127244",
     "status": "completed"
    },
    "tags": []
   },
   "outputs": [
    {
     "name": "stdout",
     "output_type": "stream",
     "text": [
      "<class 'pandas.core.frame.DataFrame'>\n",
      "RangeIndex: 10000 entries, 0 to 9999\n",
      "Data columns (total 16 columns):\n",
      " #   Column        Non-Null Count  Dtype  \n",
      "---  ------        --------------  -----  \n",
      " 0   year          10000 non-null  int64  \n",
      " 1   make          9975 non-null   object \n",
      " 2   model         9974 non-null   object \n",
      " 3   trim          9936 non-null   object \n",
      " 4   body          9756 non-null   object \n",
      " 5   transmission  9219 non-null   object \n",
      " 6   vin           10000 non-null  object \n",
      " 7   state         10000 non-null  object \n",
      " 8   condition     8552 non-null   float64\n",
      " 9   odometer      9989 non-null   float64\n",
      " 10  color         9972 non-null   object \n",
      " 11  interior      9972 non-null   object \n",
      " 12  seller        10000 non-null  object \n",
      " 13  mmr           10000 non-null  float64\n",
      " 14  sellingprice  10000 non-null  float64\n",
      " 15  saledate      10000 non-null  object \n",
      "dtypes: float64(4), int64(1), object(11)\n",
      "memory usage: 1.2+ MB\n"
     ]
    }
   ],
   "source": [
    "# Load dataset into a DataFrame (df)\n",
    "df = pd.read_csv(\"/kaggle/input/vehicle-sales-data/car_prices.csv\")\n",
    "df = df[:10000]\n",
    "# Get info about dataset\n",
    "df.info()"
   ]
  },
  {
   "cell_type": "code",
   "execution_count": 4,
   "id": "1f455bb9",
   "metadata": {
    "execution": {
     "iopub.execute_input": "2024-06-04T09:49:22.594414Z",
     "iopub.status.busy": "2024-06-04T09:49:22.594060Z",
     "iopub.status.idle": "2024-06-04T09:49:22.629451Z",
     "shell.execute_reply": "2024-06-04T09:49:22.628444Z"
    },
    "papermill": {
     "duration": 0.044899,
     "end_time": "2024-06-04T09:49:22.631905",
     "exception": false,
     "start_time": "2024-06-04T09:49:22.587006",
     "status": "completed"
    },
    "tags": []
   },
   "outputs": [
    {
     "data": {
      "text/html": [
       "<div>\n",
       "<style scoped>\n",
       "    .dataframe tbody tr th:only-of-type {\n",
       "        vertical-align: middle;\n",
       "    }\n",
       "\n",
       "    .dataframe tbody tr th {\n",
       "        vertical-align: top;\n",
       "    }\n",
       "\n",
       "    .dataframe thead th {\n",
       "        text-align: right;\n",
       "    }\n",
       "</style>\n",
       "<table border=\"1\" class=\"dataframe\">\n",
       "  <thead>\n",
       "    <tr style=\"text-align: right;\">\n",
       "      <th></th>\n",
       "      <th>year</th>\n",
       "      <th>condition</th>\n",
       "      <th>odometer</th>\n",
       "      <th>mmr</th>\n",
       "      <th>sellingprice</th>\n",
       "    </tr>\n",
       "  </thead>\n",
       "  <tbody>\n",
       "    <tr>\n",
       "      <th>count</th>\n",
       "      <td>10000.000000</td>\n",
       "      <td>8552.000000</td>\n",
       "      <td>9989.000000</td>\n",
       "      <td>10000.000000</td>\n",
       "      <td>10000.000000</td>\n",
       "    </tr>\n",
       "    <tr>\n",
       "      <th>mean</th>\n",
       "      <td>2009.675100</td>\n",
       "      <td>29.936038</td>\n",
       "      <td>68398.529282</td>\n",
       "      <td>14680.472500</td>\n",
       "      <td>14353.107100</td>\n",
       "    </tr>\n",
       "    <tr>\n",
       "      <th>std</th>\n",
       "      <td>4.143846</td>\n",
       "      <td>14.011239</td>\n",
       "      <td>54932.643853</td>\n",
       "      <td>11195.088716</td>\n",
       "      <td>11211.765516</td>\n",
       "    </tr>\n",
       "    <tr>\n",
       "      <th>min</th>\n",
       "      <td>1986.000000</td>\n",
       "      <td>1.000000</td>\n",
       "      <td>1.000000</td>\n",
       "      <td>25.000000</td>\n",
       "      <td>1.000000</td>\n",
       "    </tr>\n",
       "    <tr>\n",
       "      <th>25%</th>\n",
       "      <td>2007.000000</td>\n",
       "      <td>23.000000</td>\n",
       "      <td>27949.000000</td>\n",
       "      <td>7168.750000</td>\n",
       "      <td>6600.000000</td>\n",
       "    </tr>\n",
       "    <tr>\n",
       "      <th>50%</th>\n",
       "      <td>2011.000000</td>\n",
       "      <td>34.000000</td>\n",
       "      <td>50395.000000</td>\n",
       "      <td>12650.000000</td>\n",
       "      <td>12400.000000</td>\n",
       "    </tr>\n",
       "    <tr>\n",
       "      <th>75%</th>\n",
       "      <td>2013.000000</td>\n",
       "      <td>41.000000</td>\n",
       "      <td>99334.000000</td>\n",
       "      <td>19800.000000</td>\n",
       "      <td>19500.000000</td>\n",
       "    </tr>\n",
       "    <tr>\n",
       "      <th>max</th>\n",
       "      <td>2015.000000</td>\n",
       "      <td>49.000000</td>\n",
       "      <td>999999.000000</td>\n",
       "      <td>149000.000000</td>\n",
       "      <td>154000.000000</td>\n",
       "    </tr>\n",
       "  </tbody>\n",
       "</table>\n",
       "</div>"
      ],
      "text/plain": [
       "               year    condition       odometer            mmr   sellingprice\n",
       "count  10000.000000  8552.000000    9989.000000   10000.000000   10000.000000\n",
       "mean    2009.675100    29.936038   68398.529282   14680.472500   14353.107100\n",
       "std        4.143846    14.011239   54932.643853   11195.088716   11211.765516\n",
       "min     1986.000000     1.000000       1.000000      25.000000       1.000000\n",
       "25%     2007.000000    23.000000   27949.000000    7168.750000    6600.000000\n",
       "50%     2011.000000    34.000000   50395.000000   12650.000000   12400.000000\n",
       "75%     2013.000000    41.000000   99334.000000   19800.000000   19500.000000\n",
       "max     2015.000000    49.000000  999999.000000  149000.000000  154000.000000"
      ]
     },
     "execution_count": 4,
     "metadata": {},
     "output_type": "execute_result"
    }
   ],
   "source": [
    "df.describe()"
   ]
  },
  {
   "cell_type": "code",
   "execution_count": 5,
   "id": "61a74070",
   "metadata": {
    "execution": {
     "iopub.execute_input": "2024-06-04T09:49:22.646231Z",
     "iopub.status.busy": "2024-06-04T09:49:22.645841Z",
     "iopub.status.idle": "2024-06-04T09:49:22.668983Z",
     "shell.execute_reply": "2024-06-04T09:49:22.667710Z"
    },
    "papermill": {
     "duration": 0.033002,
     "end_time": "2024-06-04T09:49:22.671372",
     "exception": false,
     "start_time": "2024-06-04T09:49:22.638370",
     "status": "completed"
    },
    "tags": []
   },
   "outputs": [
    {
     "name": "stdout",
     "output_type": "stream",
     "text": [
      "Null values in each column: \n"
     ]
    },
    {
     "data": {
      "text/plain": [
       "year               0\n",
       "make              25\n",
       "model             26\n",
       "trim              64\n",
       "body             244\n",
       "transmission     781\n",
       "vin                0\n",
       "state              0\n",
       "condition       1448\n",
       "odometer          11\n",
       "color             28\n",
       "interior          28\n",
       "seller             0\n",
       "mmr                0\n",
       "sellingprice       0\n",
       "saledate           0\n",
       "dtype: int64"
      ]
     },
     "execution_count": 5,
     "metadata": {},
     "output_type": "execute_result"
    }
   ],
   "source": [
    "# Print a descriptive message indicating that the following output will display the count of null values in each column\n",
    "print(\"Null values in each column: \")\n",
    "\n",
    "# Calculate the sum of null values in each column of the DataFrame 'df' and display the result\n",
    "df.isnull().sum()\n"
   ]
  },
  {
   "cell_type": "code",
   "execution_count": 6,
   "id": "cf9f04d3",
   "metadata": {
    "execution": {
     "iopub.execute_input": "2024-06-04T09:49:22.686341Z",
     "iopub.status.busy": "2024-06-04T09:49:22.685478Z",
     "iopub.status.idle": "2024-06-04T09:49:22.754082Z",
     "shell.execute_reply": "2024-06-04T09:49:22.752881Z"
    },
    "papermill": {
     "duration": 0.078795,
     "end_time": "2024-06-04T09:49:22.756839",
     "exception": false,
     "start_time": "2024-06-04T09:49:22.678044",
     "status": "completed"
    },
    "tags": []
   },
   "outputs": [
    {
     "name": "stdout",
     "output_type": "stream",
     "text": [
      "Columns in dataset 10000 Rows in dataset 16\n",
      "Dataset have 7790 rows and 16 columns after removing null values\n"
     ]
    }
   ],
   "source": [
    "# Print the number of columns and rows in the dataset using formatted string, \n",
    "# where {df.shape[0]} represents the number of rows and {df.shape[1]} represents the number of columns.\n",
    "print(f\"Columns in dataset {df.shape[0]} Rows in dataset {df.shape[1]}\")\n",
    "\n",
    "# Drop rows with any missing values from the DataFrame.\n",
    "df = df.dropna()\n",
    "\n",
    "# Print the number of rows and columns in the dataset after removing null values, \n",
    "# using formatted string with {df.shape[0]} for rows and {df.shape[1]} for columns.\n",
    "print(f'Dataset have {df.shape[0]} rows and {df.shape[1]} columns after removing null values')\n"
   ]
  },
  {
   "cell_type": "code",
   "execution_count": 7,
   "id": "1441756f",
   "metadata": {
    "execution": {
     "iopub.execute_input": "2024-06-04T09:49:22.772528Z",
     "iopub.status.busy": "2024-06-04T09:49:22.772131Z",
     "iopub.status.idle": "2024-06-04T09:49:23.265423Z",
     "shell.execute_reply": "2024-06-04T09:49:23.264302Z"
    },
    "papermill": {
     "duration": 0.503872,
     "end_time": "2024-06-04T09:49:23.267762",
     "exception": false,
     "start_time": "2024-06-04T09:49:22.763890",
     "status": "completed"
    },
    "tags": []
   },
   "outputs": [
    {
     "data": {
      "image/png": "[encoded data removed]",
      "text/plain": [
       "<Figure size 800x600 with 1 Axes>"
      ]
     },
     "metadata": {},
     "output_type": "display_data"
    }
   ],
   "source": [
    "# Create a histogram of sale prices\n",
    "plt.figure(figsize=(8, 6))  # Set figure size (optional)\n",
    "plt.hist(df['sellingprice'], bins='auto', edgecolor='black')  # Create histogram\n",
    "plt.xlabel('Selling Price')\n",
    "plt.ylabel('Frequency')\n",
    "plt.title('Sale Price Distribution')\n",
    "plt.grid(True)\n",
    "plt.show()\n"
   ]
  },
  {
   "cell_type": "code",
   "execution_count": 8,
   "id": "618f2312",
   "metadata": {
    "execution": {
     "iopub.execute_input": "2024-06-04T09:49:23.283275Z",
     "iopub.status.busy": "2024-06-04T09:49:23.282894Z",
     "iopub.status.idle": "2024-06-04T09:49:23.656380Z",
     "shell.execute_reply": "2024-06-04T09:49:23.655325Z"
    },
    "papermill": {
     "duration": 0.384034,
     "end_time": "2024-06-04T09:49:23.658687",
     "exception": false,
     "start_time": "2024-06-04T09:49:23.274653",
     "status": "completed"
    },
    "tags": []
   },
   "outputs": [
    {
     "name": "stderr",
     "output_type": "stream",
     "text": [
      "/opt/conda/lib/python3.10/site-packages/seaborn/_oldcore.py:1119: FutureWarning: use_inf_as_na option is deprecated and will be removed in a future version. Convert inf values to NaN before operating instead.\n",
      "  with pd.option_context('mode.use_inf_as_na', True):\n"
     ]
    },
    {
     "data": {
      "image/png": "[encoded data removed]",
      "text/plain": [
       "<Figure size 800x600 with 1 Axes>"
      ]
     },
     "metadata": {},
     "output_type": "display_data"
    }
   ],
   "source": [
    "# Kernel Density Plot\n",
    "plt.figure(figsize=(8, 6))  # Set figure size (optional)\n",
    "sns.kdeplot(df['sellingprice'], fill=True)  # Use seaborn for kernel density with fill\n",
    "plt.xlabel('Selling Price')\n",
    "plt.ylabel('Density')\n",
    "plt.title('Sale Price Distribution (Kernel Density)')\n",
    "plt.grid(True)\n",
    "plt.show()"
   ]
  },
  {
   "cell_type": "code",
   "execution_count": 9,
   "id": "4f9ce424",
   "metadata": {
    "execution": {
     "iopub.execute_input": "2024-06-04T09:49:23.676087Z",
     "iopub.status.busy": "2024-06-04T09:49:23.675312Z",
     "iopub.status.idle": "2024-06-04T09:49:23.857241Z",
     "shell.execute_reply": "2024-06-04T09:49:23.856184Z"
    },
    "papermill": {
     "duration": 0.193355,
     "end_time": "2024-06-04T09:49:23.859821",
     "exception": false,
     "start_time": "2024-06-04T09:49:23.666466",
     "status": "completed"
    },
    "tags": []
   },
   "outputs": [
    {
     "name": "stdout",
     "output_type": "stream",
     "text": [
      "   year  odometer      mmr  sellingprice  \\\n",
      "0  2015   16639.0  20500.0       21500.0   \n",
      "1  2015    9393.0  20800.0       21500.0   \n",
      "\n",
      "                                  saledate  make_Audi  make_BMW  make_Bentley  \\\n",
      "0  Tue Dec 16 2014 12:30:00 GMT-0800 (PST)      False     False         False   \n",
      "1  Tue Dec 16 2014 12:30:00 GMT-0800 (PST)      False     False         False   \n",
      "\n",
      "   make_Buick  make_Cadillac  ...  seller_woodhouse ford inc  \\\n",
      "0       False          False  ...                      False   \n",
      "1       False          False  ...                      False   \n",
      "\n",
      "   seller_woodhouse sioux city inc  seller_world omni financial corporation  \\\n",
      "0                            False                                    False   \n",
      "1                            False                                    False   \n",
      "\n",
      "   seller_worthington ford  seller_wright-patt credit union  \\\n",
      "0                    False                            False   \n",
      "1                    False                            False   \n",
      "\n",
      "   seller_young motors llc  seller_yucca valley chrysler plymouth dodge inc  \\\n",
      "0                    False                                            False   \n",
      "1                    False                                            False   \n",
      "\n",
      "   seller_yucca valley ford center  seller_zappone chrysler jeep dodge ram  \\\n",
      "0                            False                                   False   \n",
      "1                            False                                   False   \n",
      "\n",
      "   seller_zeibak auto trading  \n",
      "0                       False  \n",
      "1                       False  \n",
      "\n",
      "[2 rows x 10093 columns]\n"
     ]
    }
   ],
   "source": [
    "# List of categorical variables to encode\n",
    "categorical_cols = ['make', 'model', 'trim', 'body', 'transmission', 'vin', 'state', 'condition', 'color', 'interior', 'seller']\n",
    "\n",
    "# One-hot encode categorical variables\n",
    "df_encoded = pd.get_dummies(df, columns=categorical_cols, drop_first=True)\n",
    "\n",
    "# Label encode categorical variables in the original DataFrame\n",
    "label_encoder = LabelEncoder()\n",
    "for col in categorical_cols:\n",
    "    df[col] = label_encoder.fit_transform(df[col].astype(str))\n",
    "\n",
    "# Check the encoded DataFrame\n",
    "print(df_encoded.head(2))\n"
   ]
  },
  {
   "cell_type": "code",
   "execution_count": 10,
   "id": "aa662f67",
   "metadata": {
    "execution": {
     "iopub.execute_input": "2024-06-04T09:49:23.876938Z",
     "iopub.status.busy": "2024-06-04T09:49:23.876532Z",
     "iopub.status.idle": "2024-06-04T09:49:23.887742Z",
     "shell.execute_reply": "2024-06-04T09:49:23.886813Z"
    },
    "papermill": {
     "duration": 0.022817,
     "end_time": "2024-06-04T09:49:23.890322",
     "exception": false,
     "start_time": "2024-06-04T09:49:23.867505",
     "status": "completed"
    },
    "tags": []
   },
   "outputs": [],
   "source": [
    "# Define the numerical features to be scaled\n",
    "numerical_features = ['year', 'odometer', 'mmr', 'sellingprice']\n",
    "\n",
    "# Create a MinMaxScaler object\n",
    "min_max_scaler = MinMaxScaler()\n",
    "\n",
    "# Create a StandardScaler object (not used in this code snippet but could be used elsewhere)\n",
    "standard_scaler = StandardScaler()\n",
    "\n",
    "# Apply Min-Max scaling to numerical features and update the dataframe with scaled values\n",
    "df[numerical_features] = min_max_scaler.fit_transform(df[numerical_features])\n",
    "\n"
   ]
  },
  {
   "cell_type": "code",
   "execution_count": 11,
   "id": "e8c00af8",
   "metadata": {
    "execution": {
     "iopub.execute_input": "2024-06-04T09:49:23.907530Z",
     "iopub.status.busy": "2024-06-04T09:49:23.907174Z",
     "iopub.status.idle": "2024-06-04T09:49:23.916081Z",
     "shell.execute_reply": "2024-06-04T09:49:23.914865Z"
    },
    "papermill": {
     "duration": 0.020104,
     "end_time": "2024-06-04T09:49:23.918339",
     "exception": false,
     "start_time": "2024-06-04T09:49:23.898235",
     "status": "completed"
    },
    "tags": []
   },
   "outputs": [
    {
     "data": {
      "text/plain": [
       "2023.0"
      ]
     },
     "execution_count": 11,
     "metadata": {},
     "output_type": "execute_result"
    }
   ],
   "source": [
    "# Assuming 'manufacturing_year' is a column in your DataFrame containing the year of manufacture for each vehicle\n",
    "\n",
    "# Import the datetime module to work with dates and times\n",
    "import datetime\n",
    "\n",
    "# Get the current year\n",
    "current_year = datetime.datetime.now().year\n",
    "\n",
    "# Calculate the age of the vehicle by subtracting the manufacturing year from the current year\n",
    "df['vehicle_age'] = current_year - df['year']\n",
    "\n",
    "# Retrieve the age of the first vehicle in the DataFrame\n",
    "df['vehicle_age'].iloc[0]\n"
   ]
  },
  {
   "cell_type": "code",
   "execution_count": 12,
   "id": "280fd63c",
   "metadata": {
    "execution": {
     "iopub.execute_input": "2024-06-04T09:49:23.935889Z",
     "iopub.status.busy": "2024-06-04T09:49:23.935022Z",
     "iopub.status.idle": "2024-06-04T09:49:23.962521Z",
     "shell.execute_reply": "2024-06-04T09:49:23.961480Z"
    },
    "papermill": {
     "duration": 0.038748,
     "end_time": "2024-06-04T09:49:23.964905",
     "exception": false,
     "start_time": "2024-06-04T09:49:23.926157",
     "status": "completed"
    },
    "tags": []
   },
   "outputs": [
    {
     "name": "stdout",
     "output_type": "stream",
     "text": [
      "Training set - Features: (6232, 15)\n",
      "Training set - Target: (6232,)\n",
      "Testing set - Features: (1558, 15)\n",
      "Testing set - Target: (1558,)\n"
     ]
    },
    {
     "data": {
      "text/html": [
       "<div>\n",
       "<style scoped>\n",
       "    .dataframe tbody tr th:only-of-type {\n",
       "        vertical-align: middle;\n",
       "    }\n",
       "\n",
       "    .dataframe tbody tr th {\n",
       "        vertical-align: top;\n",
       "    }\n",
       "\n",
       "    .dataframe thead th {\n",
       "        text-align: right;\n",
       "    }\n",
       "</style>\n",
       "<table border=\"1\" class=\"dataframe\">\n",
       "  <thead>\n",
       "    <tr style=\"text-align: right;\">\n",
       "      <th></th>\n",
       "      <th>year</th>\n",
       "      <th>make</th>\n",
       "      <th>model</th>\n",
       "      <th>trim</th>\n",
       "      <th>body</th>\n",
       "      <th>transmission</th>\n",
       "      <th>vin</th>\n",
       "      <th>state</th>\n",
       "      <th>condition</th>\n",
       "      <th>odometer</th>\n",
       "      <th>color</th>\n",
       "      <th>interior</th>\n",
       "      <th>seller</th>\n",
       "      <th>mmr</th>\n",
       "      <th>vehicle_age</th>\n",
       "    </tr>\n",
       "  </thead>\n",
       "  <tbody>\n",
       "    <tr>\n",
       "      <th>0</th>\n",
       "      <td>1.0</td>\n",
       "      <td>19</td>\n",
       "      <td>412</td>\n",
       "      <td>346</td>\n",
       "      <td>25</td>\n",
       "      <td>0</td>\n",
       "      <td>4642</td>\n",
       "      <td>1</td>\n",
       "      <td>37</td>\n",
       "      <td>0.016638</td>\n",
       "      <td>16</td>\n",
       "      <td>1</td>\n",
       "      <td>503</td>\n",
       "      <td>0.137439</td>\n",
       "      <td>2023.0</td>\n",
       "    </tr>\n",
       "    <tr>\n",
       "      <th>1</th>\n",
       "      <td>1.0</td>\n",
       "      <td>19</td>\n",
       "      <td>412</td>\n",
       "      <td>346</td>\n",
       "      <td>25</td>\n",
       "      <td>0</td>\n",
       "      <td>4641</td>\n",
       "      <td>1</td>\n",
       "      <td>37</td>\n",
       "      <td>0.009392</td>\n",
       "      <td>16</td>\n",
       "      <td>0</td>\n",
       "      <td>503</td>\n",
       "      <td>0.139453</td>\n",
       "      <td>2023.0</td>\n",
       "    </tr>\n",
       "  </tbody>\n",
       "</table>\n",
       "</div>"
      ],
      "text/plain": [
       "   year  make  model  trim  body  transmission   vin  state  condition  \\\n",
       "0   1.0    19    412   346    25             0  4642      1         37   \n",
       "1   1.0    19    412   346    25             0  4641      1         37   \n",
       "\n",
       "   odometer  color  interior  seller       mmr  vehicle_age  \n",
       "0  0.016638     16         1     503  0.137439       2023.0  \n",
       "1  0.009392     16         0     503  0.139453       2023.0  "
      ]
     },
     "execution_count": 12,
     "metadata": {},
     "output_type": "execute_result"
    }
   ],
   "source": [
    "\n",
    "X = df.drop(columns=['sellingprice','saledate'])  # Extracting features by dropping 'sellingprice' and 'saledate' columns\n",
    "y = df['sellingprice']  # Extracting the target variable 'sellingprice'\n",
    "\n",
    "# Split the dataset into 80% training and 20% testing sets\n",
    "X_train, X_test, y_train, y_test = train_test_split(X, y, test_size=0.2, random_state=42)\n",
    "\n",
    "# Print the shapes of the resulting datasets\n",
    "print(\"Training set - Features:\", X_train.shape)  # Printing the shape of the training set features\n",
    "print(\"Training set - Target:\", y_train.shape)    # Printing the shape of the training set target variable\n",
    "print(\"Testing set - Features:\", X_test.shape)    # Printing the shape of the testing set features\n",
    "print(\"Testing set - Target:\", y_test.shape)      # Printing the shape of the testing set target variable\n",
    "\n",
    "X.head(2)  # Displaying the first two rows of the feature dataset\n"
   ]
  },
  {
   "cell_type": "code",
   "execution_count": 13,
   "id": "ac79b91a",
   "metadata": {
    "execution": {
     "iopub.execute_input": "2024-06-04T09:49:23.984272Z",
     "iopub.status.busy": "2024-06-04T09:49:23.983398Z",
     "iopub.status.idle": "2024-06-04T09:49:24.031945Z",
     "shell.execute_reply": "2024-06-04T09:49:24.030590Z"
    },
    "papermill": {
     "duration": 0.062272,
     "end_time": "2024-06-04T09:49:24.035796",
     "exception": false,
     "start_time": "2024-06-04T09:49:23.973524",
     "status": "completed"
    },
    "tags": []
   },
   "outputs": [
    {
     "name": "stdout",
     "output_type": "stream",
     "text": [
      "Mean Absolute Error: 0.00761665352312328\n",
      "Mean Squared Error (MSE): 0.00013008993279955817\n",
      "R-squared (R^2) Score: 0.972796522081389\n"
     ]
    }
   ],
   "source": [
    "\n",
    "# Initialize Linear Regression model\n",
    "model = LinearRegression()  # Creating an instance of Linear Regression model\n",
    "\n",
    "# Train the model on the training data\n",
    "model.fit(X_train, y_train)  # Fitting the model to the training data\n",
    "\n",
    "# Make predictions on the testing data\n",
    "y_pred = model.predict(X_test)  # Predicting outputs using the trained model and testing data\n",
    "\n",
    "# Evaluate the model's performance\n",
    "mae = mean_absolute_error(y_test, y_pred)  # Calculating Mean Absolute Error\n",
    "print(\"Mean Absolute Error:\", mae)  # Printing the Mean Absolute Error\n",
    "\n",
    "# Calculate Mean Squared Error (MSE)\n",
    "mse = mean_squared_error(y_test, y_pred)  # Calculating Mean Squared Error\n",
    "print(\"Mean Squared Error (MSE):\", mse)  # Printing the Mean Squared Error\n",
    "\n",
    "# Calculate R-squared (R^2) score\n",
    "r2 = r2_score(y_test, y_pred)  # Calculating R-squared (R^2) score\n",
    "print(\"R-squared (R^2) Score:\", r2)  # Printing the R-squared (R^2) score\n"
   ]
  },
  {
   "cell_type": "markdown",
   "id": "a78a8168",
   "metadata": {
    "papermill": {
     "duration": 0.031983,
     "end_time": "2024-06-04T09:49:24.116331",
     "exception": false,
     "start_time": "2024-06-04T09:49:24.084348",
     "status": "completed"
    },
    "tags": []
   },
   "source": [
    "**There are several options for deploying machine learning models in production, including:**\n",
    "1. Building a RESTful API (Application Programming Interface)\n",
    "2. Embedding the model in an application or service\n",
    "3. Containerizing the model using Docker and deploying it on cloud platforms like AWS, Google Cloud, or Azure\n",
    "4. Using serverless computing services like AWS Lambda or Google Cloud Functions"
   ]
  }
 ],
 "metadata": {
  "kaggle": {
   "accelerator": "none",
   "dataSources": [
    {
     "datasetId": 4476093,
     "sourceId": 7673611,
     "sourceType": "datasetVersion"
    }
   ],
   "dockerImageVersionId": 30664,
   "isGpuEnabled": false,
   "isInternetEnabled": false,
   "language": "python",
   "sourceType": "notebook"
  },
  "kernelspec": {
   "display_name": "Python 3",
   "language": "python",
   "name": "python3"
  },
  "language_info": {
   "codemirror_mode": {
    "name": "ipython",
    "version": 3
   },
   "file_extension": ".py",
   "mimetype": "text/x-python",
   "name": "python",
   "nbconvert_exporter": "python",
   "pygments_lexer": "ipython3",
   "version": "3.10.13"
  },
  "papermill": {
   "default_parameters": {},
   "duration": 11.091659,
   "end_time": "2024-06-04T09:49:24.759605",
   "environment_variables": {},
   "exception": null,
   "input_path": "__notebook__.ipynb",
   "output_path": "__notebook__.ipynb",
   "parameters": {},
   "start_time": "2024-06-04T09:49:13.667946",
   "version": "2.5.0"
  }
 },
 "nbformat": 4,
 "nbformat_minor": 5
}
